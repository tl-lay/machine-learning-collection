{
 "cells": [
  {
   "cell_type": "markdown",
   "id": "4da71b3d",
   "metadata": {},
   "source": [
    "# Named Entity Recognition (NER) in NLTK Library\n",
    "\n",
    "https://machinelearningknowledge.ai/beginners-guide-to-named-entity-recognition-ner-in-nltk-library-python/"
   ]
  },
  {
   "cell_type": "code",
   "execution_count": 1,
   "id": "c3dd5dea",
   "metadata": {},
   "outputs": [],
   "source": [
    "# Importing libraries\n",
    "import nltk\n",
    "from nltk import word_tokenize,pos_tag\n",
    "import spacy"
   ]
  },
  {
   "cell_type": "markdown",
   "id": "50cda6ae",
   "metadata": {},
   "source": [
    "### Example 1\n",
    "\n",
    "The text example has been tokenized with POS tagging applied. We will use the NLTK function ne_chunk() that is pretrained to recognize named entity using POS tag as input."
   ]
  },
  {
   "cell_type": "code",
   "execution_count": 2,
   "id": "4ae873d3",
   "metadata": {},
   "outputs": [
    {
     "name": "stdout",
     "output_type": "stream",
     "text": [
      "[('NASA', 'NNP'), ('awarded', 'VBD'), ('Elon', 'NNP'), ('Musk', 'NNP'), ('’', 'NNP'), ('s', 'VBD'), ('SpaceX', 'NNP'), ('a', 'DT'), ('$', '$'), ('2.9', 'CD'), ('billion', 'CD'), ('contract', 'NN'), ('to', 'TO'), ('build', 'VB'), ('the', 'DT'), ('lunar', 'NN'), ('lander', 'NN'), ('.', '.')]\n",
      "(S\n",
      "  (ORGANIZATION NASA/NNP)\n",
      "  awarded/VBD\n",
      "  (PERSON Elon/NNP Musk/NNP)\n",
      "  ’/NNP\n",
      "  s/VBD\n",
      "  (ORGANIZATION SpaceX/NNP)\n",
      "  a/DT\n",
      "  $/$\n",
      "  2.9/CD\n",
      "  billion/CD\n",
      "  contract/NN\n",
      "  to/TO\n",
      "  build/VB\n",
      "  the/DT\n",
      "  lunar/NN\n",
      "  lander/NN\n",
      "  ./.)\n"
     ]
    }
   ],
   "source": [
    "text = \"NASA awarded Elon Musk’s SpaceX a $2.9 billion contract to build the lunar lander.\"\n",
    "tokens = word_tokenize(text)\n",
    "tag=pos_tag(tokens)\n",
    "print(tag)\n",
    "\n",
    "ne_tree = nltk.ne_chunk(tag)\n",
    "print(ne_tree)"
   ]
  },
  {
   "cell_type": "markdown",
   "id": "6a5bb415",
   "metadata": {},
   "source": [
    "### Example 2\n",
    "\n",
    "Another example using tagged sentences provided by the NLTK library."
   ]
  },
  {
   "cell_type": "code",
   "execution_count": 3,
   "id": "163af08c",
   "metadata": {},
   "outputs": [
    {
     "name": "stdout",
     "output_type": "stream",
     "text": [
      "[('Pierre', 'NNP'), ('Vinken', 'NNP'), (',', ','), ('61', 'CD'), ('years', 'NNS'), ('old', 'JJ'), (',', ','), ('will', 'MD'), ('join', 'VB'), ('the', 'DT'), ('board', 'NN'), ('as', 'IN'), ('a', 'DT'), ('nonexecutive', 'JJ'), ('director', 'NN'), ('Nov.', 'NNP'), ('29', 'CD'), ('.', '.')]\n",
      "(S\n",
      "  (PERSON Pierre/NNP)\n",
      "  (ORGANIZATION Vinken/NNP)\n",
      "  ,/,\n",
      "  61/CD\n",
      "  years/NNS\n",
      "  old/JJ\n",
      "  ,/,\n",
      "  will/MD\n",
      "  join/VB\n",
      "  the/DT\n",
      "  board/NN\n",
      "  as/IN\n",
      "  a/DT\n",
      "  nonexecutive/JJ\n",
      "  director/NN\n",
      "  Nov./NNP\n",
      "  29/CD\n",
      "  ./.)\n"
     ]
    }
   ],
   "source": [
    "sent = nltk.corpus.treebank.tagged_sents()\n",
    "print(sent[0])\n",
    "print(nltk.ne_chunk(sent[0]))"
   ]
  },
  {
   "cell_type": "markdown",
   "id": "09493dae",
   "metadata": {},
   "source": [
    "### Example 3\n",
    "\n",
    "NER using Spacy."
   ]
  },
  {
   "cell_type": "code",
   "execution_count": 13,
   "id": "0145e234",
   "metadata": {},
   "outputs": [
    {
     "name": "stdout",
     "output_type": "stream",
     "text": [
      "Sentence: NASA awarded Elon Musk’s SpaceX a $2.9 billion contract to build the lunar lander. \n",
      "\n",
      "NASA B ORG\n",
      "awarded O \n",
      "Elon B PERSON\n",
      "Musk I PERSON\n",
      "’s I PERSON\n",
      "SpaceX O \n",
      "a O \n",
      "$ B MONEY\n",
      "2.9 I MONEY\n",
      "billion I MONEY\n",
      "contract O \n",
      "to O \n",
      "build O \n",
      "the O \n",
      "lunar O \n",
      "lander O \n",
      ". O \n"
     ]
    }
   ],
   "source": [
    "nlp = spacy.load(\"en_core_web_sm\")\n",
    "doc = nlp(\"NASA awarded Elon Musk’s SpaceX a $2.9 billion contract to build the lunar lander.\")\n",
    "print('Sentence:',doc,'\\n')\n",
    "for token in doc:\n",
    "    print(token.text, token.ent_iob_, token.ent_type_)"
   ]
  },
  {
   "cell_type": "markdown",
   "id": "82c5e870",
   "metadata": {},
   "source": [
    "## Exercise 2\n",
    "\n",
    "Repeating the previous examples with a new text sample:"
   ]
  },
  {
   "cell_type": "markdown",
   "id": "9837db19",
   "metadata": {},
   "source": [
    "### Example 1"
   ]
  },
  {
   "cell_type": "code",
   "execution_count": 17,
   "id": "e8f5db0f",
   "metadata": {},
   "outputs": [
    {
     "name": "stdout",
     "output_type": "stream",
     "text": [
      "[('Bengio', 'NNP'), ('and', 'CC'), ('Elon', 'NNP'), ('Musk', 'NNP'), (',', ','), ('along', 'IN'), ('with', 'IN'), ('more', 'JJR'), ('than', 'IN'), ('1,000', 'CD'), ('other', 'JJ'), ('experts', 'NNS'), ('and', 'CC'), ('industry', 'NN'), ('executives', 'NNS'), (',', ','), ('had', 'VBD'), ('already', 'RB'), ('cited', 'VBN'), ('potential', 'JJ'), ('risks', 'NNS'), ('to', 'TO'), ('society', 'VB'), ('in', 'IN'), ('April', 'NNP'), ('.', '.')]\n",
      "(S\n",
      "  (GPE Bengio/NNP)\n",
      "  and/CC\n",
      "  (PERSON Elon/NNP Musk/NNP)\n",
      "  ,/,\n",
      "  along/IN\n",
      "  with/IN\n",
      "  more/JJR\n",
      "  than/IN\n",
      "  1,000/CD\n",
      "  other/JJ\n",
      "  experts/NNS\n",
      "  and/CC\n",
      "  industry/NN\n",
      "  executives/NNS\n",
      "  ,/,\n",
      "  had/VBD\n",
      "  already/RB\n",
      "  cited/VBN\n",
      "  potential/JJ\n",
      "  risks/NNS\n",
      "  to/TO\n",
      "  society/VB\n",
      "  in/IN\n",
      "  April/NNP\n",
      "  ./.)\n"
     ]
    }
   ],
   "source": [
    "text = \"Bengio and Elon Musk, along with more than 1,000 other experts and industry executives, \"\\\n",
    "        \"had already cited potential risks to society in April.\"\n",
    "tokens = word_tokenize(text)\n",
    "tag=pos_tag(tokens)\n",
    "print(tag)\n",
    "\n",
    "ne_tree = nltk.ne_chunk(tag)\n",
    "print(ne_tree)"
   ]
  },
  {
   "cell_type": "markdown",
   "id": "093b985b",
   "metadata": {},
   "source": [
    "### Example 2"
   ]
  },
  {
   "cell_type": "code",
   "execution_count": 15,
   "id": "776e22ac",
   "metadata": {},
   "outputs": [
    {
     "name": "stdout",
     "output_type": "stream",
     "text": [
      "[('Mr.', 'NNP'), ('Vinken', 'NNP'), ('is', 'VBZ'), ('chairman', 'NN'), ('of', 'IN'), ('Elsevier', 'NNP'), ('N.V.', 'NNP'), (',', ','), ('the', 'DT'), ('Dutch', 'NNP'), ('publishing', 'VBG'), ('group', 'NN'), ('.', '.')]\n",
      "(S\n",
      "  (PERSON Mr./NNP)\n",
      "  (PERSON Vinken/NNP)\n",
      "  is/VBZ\n",
      "  chairman/NN\n",
      "  of/IN\n",
      "  (ORGANIZATION Elsevier/NNP)\n",
      "  N.V./NNP\n",
      "  ,/,\n",
      "  the/DT\n",
      "  (GPE Dutch/NNP)\n",
      "  publishing/VBG\n",
      "  group/NN\n",
      "  ./.)\n"
     ]
    }
   ],
   "source": [
    "sent = nltk.corpus.treebank.tagged_sents()\n",
    "print(sent[1])\n",
    "print(nltk.ne_chunk(sent[1]))"
   ]
  },
  {
   "cell_type": "markdown",
   "id": "04e3557a",
   "metadata": {},
   "source": [
    "### Example 3"
   ]
  },
  {
   "cell_type": "code",
   "execution_count": 18,
   "id": "f99f3320",
   "metadata": {},
   "outputs": [
    {
     "name": "stdout",
     "output_type": "stream",
     "text": [
      "Sentence: Bengio and Elon Musk, along with more than 1,000 other experts and industry executives, had already cited potential risks to society in April. \n",
      "\n",
      "Bengio B PERSON\n",
      "and O \n",
      "Elon B PERSON\n",
      "Musk I PERSON\n",
      ", O \n",
      "along O \n",
      "with O \n",
      "more B CARDINAL\n",
      "than I CARDINAL\n",
      "1,000 I CARDINAL\n",
      "other O \n",
      "experts O \n",
      "and O \n",
      "industry O \n",
      "executives O \n",
      ", O \n",
      "had O \n",
      "already O \n",
      "cited O \n",
      "potential O \n",
      "risks O \n",
      "to O \n",
      "society O \n",
      "in O \n",
      "April B DATE\n",
      ". O \n"
     ]
    }
   ],
   "source": [
    "nlp = spacy.load(\"en_core_web_sm\")\n",
    "doc = nlp(\"Bengio and Elon Musk, along with more than 1,000 other experts and industry executives, \"\\\n",
    "          \"had already cited potential risks to society in April.\")\n",
    "print('Sentence:',doc,'\\n')\n",
    "for token in doc:\n",
    "    print(token.text, token.ent_iob_, token.ent_type_)"
   ]
  }
 ],
 "metadata": {
  "kernelspec": {
   "display_name": "Python 3 (ipykernel)",
   "language": "python",
   "name": "python3"
  },
  "language_info": {
   "codemirror_mode": {
    "name": "ipython",
    "version": 3
   },
   "file_extension": ".py",
   "mimetype": "text/x-python",
   "name": "python",
   "nbconvert_exporter": "python",
   "pygments_lexer": "ipython3",
   "version": "3.9.13"
  }
 },
 "nbformat": 4,
 "nbformat_minor": 5
}
